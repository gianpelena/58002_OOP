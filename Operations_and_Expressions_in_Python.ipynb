{
  "nbformat": 4,
  "nbformat_minor": 0,
  "metadata": {
    "colab": {
      "provenance": [],
      "authorship_tag": "ABX9TyOq6feUE9OtIz+W5R6NdDXz",
      "include_colab_link": true
    },
    "kernelspec": {
      "name": "python3",
      "display_name": "Python 3"
    },
    "language_info": {
      "name": "python"
    }
  },
  "cells": [
    {
      "cell_type": "markdown",
      "metadata": {
        "id": "view-in-github",
        "colab_type": "text"
      },
      "source": [
        "<a href=\"https://colab.research.google.com/github/gianpelena/58002_OOP/blob/main/Operations_and_Expressions_in_Python.ipynb\" target=\"_parent\"><img src=\"https://colab.research.google.com/assets/colab-badge.svg\" alt=\"Open In Colab\"/></a>"
      ]
    },
    {
      "cell_type": "markdown",
      "source": [
        "**BOOLEAN OPERATIONS**\n",
        "represent one or two values:  true or false compares variables (can be two or more) <,>,=.\n",
        "bool function allows to evaluate and give you value in return: true or false\n",
        "\n",
        "  1. **Comparison/Relational**"
      ],
      "metadata": {
        "id": "1-KCCEWv0u0s"
      }
    },
    {
      "cell_type": "code",
      "source": [
        " \n",
        "  print(10>9)\n",
        "  print(10==9)\n",
        "  print(10<0)"
      ],
      "metadata": {
        "colab": {
          "base_uri": "https://localhost:8080/"
        },
        "id": "OAnHhnDm0z9T",
        "outputId": "0d9c2fd5-d399-46cd-c747-3a0573494068"
      },
      "execution_count": 4,
      "outputs": [
        {
          "output_type": "stream",
          "name": "stdout",
          "text": [
            "True\n",
            "False\n",
            "False\n"
          ]
        }
      ]
    },
    {
      "cell_type": "code",
      "source": [
        "a = 10\n",
        "b = 0\n",
        "print (a>b)\n",
        "print (a<b)\n",
        "print (a==b)\n",
        "print (b==b)\n"
      ],
      "metadata": {
        "colab": {
          "base_uri": "https://localhost:8080/"
        },
        "id": "X9_VHnvL1k6U",
        "outputId": "f8ee831e-2587-4917-e5e9-38c03ce99caf"
      },
      "execution_count": 6,
      "outputs": [
        {
          "output_type": "stream",
          "name": "stdout",
          "text": [
            "True\n",
            "False\n",
            "False\n",
            "True\n"
          ]
        }
      ]
    },
    {
      "cell_type": "code",
      "source": [
        "print(bool(1))\n",
        "print(bool(\"Ana\"))\n",
        "print(bool(0))\n",
        "print(bool(None))\n",
        "print(bool([]))"
      ],
      "metadata": {
        "colab": {
          "base_uri": "https://localhost:8080/"
        },
        "id": "tU_MSYog2Yj8",
        "outputId": "1741863a-45ef-4bfb-c766-f76ea146f93a"
      },
      "execution_count": 7,
      "outputs": [
        {
          "output_type": "stream",
          "name": "stdout",
          "text": [
            "True\n",
            "True\n",
            "False\n",
            "False\n",
            "False\n"
          ]
        }
      ]
    },
    {
      "cell_type": "markdown",
      "source": [
        "**FUNCTION CAN RETURN A BOOLEAN**\n",
        "\n",
        "defmy Function () return true\n",
        "\n",
        "print(myFunction())"
      ],
      "metadata": {
        "id": "uFBDaUF92sWf"
      }
    },
    {
      "cell_type": "code",
      "source": [
        "def myFunction():\n",
        "  return False\n",
        "\n",
        "print(myFunction())"
      ],
      "metadata": {
        "colab": {
          "base_uri": "https://localhost:8080/"
        },
        "id": "VDqVe7O_25iS",
        "outputId": "40b7b447-d610-4add-882f-77d5af16ed5f"
      },
      "execution_count": 13,
      "outputs": [
        {
          "output_type": "stream",
          "name": "stdout",
          "text": [
            "False\n"
          ]
        }
      ]
    },
    {
      "cell_type": "markdown",
      "source": [
        "**ALLIGNMENT**"
      ],
      "metadata": {
        "id": "MgFQ4cNw3KAV"
      }
    },
    {
      "cell_type": "code",
      "source": [
        "  def myFunction():\n",
        "    return False\n",
        "if myFunction():\n",
        "      print(\"Yes\")\n",
        "else:\n",
        "      print(\"No!\")"
      ],
      "metadata": {
        "colab": {
          "base_uri": "https://localhost:8080/"
        },
        "id": "zGrrzi6v3Re2",
        "outputId": "01392ddc-162e-40fa-c952-85c0f61269ba"
      },
      "execution_count": 14,
      "outputs": [
        {
          "output_type": "stream",
          "name": "stdout",
          "text": [
            "No!\n"
          ]
        }
      ]
    },
    {
      "cell_type": "code",
      "source": [
        "print (6>7)\n",
        "\n",
        "a=6\n",
        "b=7\n",
        "print(a==b)\n",
        "print(a!=a)"
      ],
      "metadata": {
        "colab": {
          "base_uri": "https://localhost:8080/"
        },
        "id": "ofcwImvY34hf",
        "outputId": "a310594f-65b8-4d0f-e5c4-cc3829e51719"
      },
      "execution_count": 15,
      "outputs": [
        {
          "output_type": "stream",
          "name": "stdout",
          "text": [
            "False\n",
            "False\n",
            "False\n"
          ]
        }
      ]
    },
    {
      "cell_type": "markdown",
      "source": [
        "**PYTHON OPERATORS**\n",
        "\n",
        "operators are used to perform on variable and values\n",
        "\n",
        "%modulo division -- remainder // floor division\n",
        "**power^(exponent)\n"
      ],
      "metadata": {
        "id": "FyWShBLD4Rqe"
      }
    },
    {
      "cell_type": "code",
      "source": [
        "print(10%5)\n",
        "print(10//3)\n",
        "print(10**2)"
      ],
      "metadata": {
        "colab": {
          "base_uri": "https://localhost:8080/"
        },
        "id": "5crDO-Wb4p2P",
        "outputId": "dbb8f9a6-ec62-4c61-f71e-b6cf05c377f9"
      },
      "execution_count": 16,
      "outputs": [
        {
          "output_type": "stream",
          "name": "stdout",
          "text": [
            "0\n",
            "3\n",
            "100\n"
          ]
        }
      ]
    },
    {
      "cell_type": "code",
      "source": [
        "print(10+5)\n",
        "print(10-5)\n",
        "print(10*5)\n",
        "print(10/5)\n",
        "print(10//5)\n",
        "print(10%3)"
      ],
      "metadata": {
        "colab": {
          "base_uri": "https://localhost:8080/"
        },
        "id": "93JCl9Jc5Anu",
        "outputId": "a87001d1-9431-4521-f620-1d85ef3fa6ba"
      },
      "execution_count": 19,
      "outputs": [
        {
          "output_type": "stream",
          "name": "stdout",
          "text": [
            "15\n",
            "5\n",
            "50\n",
            "2.0\n",
            "2\n",
            "1\n"
          ]
        }
      ]
    },
    {
      "cell_type": "markdown",
      "source": [
        "**PYTHON BITWISE OPERATORS**\n",
        "\n",
        "works on bits and performs bits-by-bits operation.\n",
        "\n",
        "Assume if a=6 and b=13; now in binary format they will be as follows.\n",
        "\n",
        "<< = shifts to the right.\n",
        "\n",
        "(>>)= not applicable in regis"
      ],
      "metadata": {
        "id": "FyGHmoGq8a8C"
      }
    },
    {
      "cell_type": "code",
      "source": [
        "a = 60\n",
        "b = 13\n",
        "a<<1\n",
        "a>>1"
      ],
      "metadata": {
        "colab": {
          "base_uri": "https://localhost:8080/"
        },
        "id": "6QrOXjS576NK",
        "outputId": "5b541352-48e7-4f92-bddd-139a026f7999"
      },
      "execution_count": 22,
      "outputs": [
        {
          "output_type": "execute_result",
          "data": {
            "text/plain": [
              "30"
            ]
          },
          "metadata": {},
          "execution_count": 22
        }
      ]
    },
    {
      "cell_type": "markdown",
      "source": [
        "**PYTHON ASSIGNMENT OPERATORS**\n",
        "\n",
        "x+=3 same as x=x+3"
      ],
      "metadata": {
        "id": "WvgxyIn4-DNk"
      }
    },
    {
      "cell_type": "code",
      "source": [
        "x = 1\n",
        "x+=3 #same as x = x+3\n",
        "print(x)\n",
        "\n",
        "x = 1\n",
        "x-=3\n",
        "print(x)\n"
      ],
      "metadata": {
        "colab": {
          "base_uri": "https://localhost:8080/"
        },
        "id": "vTLcM2d_-QcL",
        "outputId": "12817788-200a-4e12-be83-a3f6a7a7729c"
      },
      "execution_count": 24,
      "outputs": [
        {
          "output_type": "stream",
          "name": "stdout",
          "text": [
            "4\n",
            "-2\n"
          ]
        }
      ]
    },
    {
      "cell_type": "markdown",
      "source": [
        "**LOGICAL OPERATORS**\n",
        "\n",
        "\n",
        "\n",
        "\n",
        "\n"
      ],
      "metadata": {
        "id": "Ofp0hxQa_YV0"
      }
    },
    {
      "cell_type": "code",
      "source": [
        "x = True\n",
        "y = False"
      ],
      "metadata": {
        "id": "TxonJ2dV_7Ra"
      },
      "execution_count": 26,
      "outputs": []
    },
    {
      "cell_type": "code",
      "source": [
        "print(x and y)\n",
        "print(x or y)\n",
        "print(not(x or y))"
      ],
      "metadata": {
        "colab": {
          "base_uri": "https://localhost:8080/"
        },
        "id": "dF4i4Ut0BC75",
        "outputId": "05f4be68-306a-46b0-8c32-9d7aa5ddacd8"
      },
      "execution_count": 28,
      "outputs": [
        {
          "output_type": "stream",
          "name": "stdout",
          "text": [
            "False\n",
            "True\n",
            "False\n"
          ]
        }
      ]
    },
    {
      "cell_type": "markdown",
      "source": [
        "**IDENTITY OPERATORS"
      ],
      "metadata": {
        "id": "6TF3TJV1BTx6"
      }
    },
    {
      "cell_type": "code",
      "source": [
        "print(x is y)\n",
        "print(x is not y)"
      ],
      "metadata": {
        "colab": {
          "base_uri": "https://localhost:8080/"
        },
        "id": "htC-VgP_BWia",
        "outputId": "cb3aba11-227d-41a4-a4f8-ee32fb51b5d7"
      },
      "execution_count": 30,
      "outputs": [
        {
          "output_type": "stream",
          "name": "stdout",
          "text": [
            "False\n",
            "True\n"
          ]
        }
      ]
    }
  ]
}