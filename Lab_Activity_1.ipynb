{
  "nbformat": 4,
  "nbformat_minor": 0,
  "metadata": {
    "colab": {
      "provenance": [],
      "authorship_tag": "ABX9TyPOmYCJruQ0dTB+kRbogZ8R",
      "include_colab_link": true
    },
    "kernelspec": {
      "name": "python3",
      "display_name": "Python 3"
    },
    "language_info": {
      "name": "python"
    }
  },
  "cells": [
    {
      "cell_type": "markdown",
      "metadata": {
        "id": "view-in-github",
        "colab_type": "text"
      },
      "source": [
        "<a href=\"https://colab.research.google.com/github/gianpelena/58002_OOP/blob/main/Lab_Activity_1.ipynb\" target=\"_parent\"><img src=\"https://colab.research.google.com/assets/colab-badge.svg\" alt=\"Open In Colab\"/></a>"
      ]
    },
    {
      "cell_type": "code",
      "execution_count": 4,
      "metadata": {
        "colab": {
          "base_uri": "https://localhost:8080/"
        },
        "id": "HpThCXZjnI3m",
        "outputId": "7e8862e7-69a6-42cb-c0f1-7e6de426ef44"
      },
      "outputs": [
        {
          "output_type": "stream",
          "name": "stdout",
          "text": [
            "Total numbers: 21\n",
            "Sum: 210\n",
            "Average: 10.0\n"
          ]
        }
      ],
      "source": [
        "no = 20\n",
        "total_no = 0\n",
        "total_sum = 0\n",
        "\n",
        "while no >= 0:\n",
        "    total_sum += no\n",
        "    total_no += 1\n",
        "    no -= 1\n",
        "\n",
        "if no < 0:\n",
        "    average = total_sum / total_no\n",
        "    print(f\"Total numbers: {total_no}\")\n",
        "    print(f\"Sum: {total_sum}\")\n",
        "    print(f\"Average: {average}\")"
      ]
    }
  ]
}