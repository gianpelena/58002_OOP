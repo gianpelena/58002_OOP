{
  "nbformat": 4,
  "nbformat_minor": 0,
  "metadata": {
    "colab": {
      "provenance": [],
      "authorship_tag": "ABX9TyP+auqygU5T6bzzmGFvhHmD",
      "include_colab_link": true
    },
    "kernelspec": {
      "name": "python3",
      "display_name": "Python 3"
    },
    "language_info": {
      "name": "python"
    }
  },
  "cells": [
    {
      "cell_type": "markdown",
      "metadata": {
        "id": "view-in-github",
        "colab_type": "text"
      },
      "source": [
        "<a href=\"https://colab.research.google.com/github/gianpelena/58002_OOP/blob/main/MIDTERMQuiz_py.ipynb\" target=\"_parent\"><img src=\"https://colab.research.google.com/assets/colab-badge.svg\" alt=\"Open In Colab\"/></a>"
      ]
    },
    {
      "cell_type": "code",
      "source": [
        "class TempConversion:\n",
        "    def __init__(self, temp):\n",
        "        self.__temp = temp\n",
        "    \n",
        "    def __Fahrenheit_to_Celsius(self):\n",
        "        return (self.__temp - 32) * 5/9\n",
        "    \n",
        "    def __Kelvin_to_Celsius(self):\n",
        "        return self.__temp - 273.15\n",
        "    \n",
        "    def __Celsius_to_Fahrenheit(self):\n",
        "        return (self.__temp * 9/5) + 32\n",
        "    \n",
        "    def __Kelvin_to_Fahrenheit(self):\n",
        "        return (self.__temp - 273.15) * 9/5 + 32\n",
        "    \n",
        "    def __Celsius_to_Kelvin(self):\n",
        "        return self.__temp + 273.15\n",
        "    \n",
        "    def __Fahrenheit_to_Kelvin(self):\n",
        "        return (self.__temp - 32) * 5/9 + 273.15\n",
        "\n",
        "    def convert(self):\n",
        "        print(\"Fahrenheit to Celsius:\", self.__Fahrenheit_to_Celsius())\n",
        "        print(\"Kelvin to Celsius:\", self.__Kelvin_to_Celsius())\n",
        "        print(\"Celsius to Fahrenheit:\", self.__Celsius_to_Fahrenheit())\n",
        "        print(\"Kelvin to Fahrenheit:\", self.__Kelvin_to_Fahrenheit())\n",
        "        print(\"Celsius to Kelvin:\", self.__Celsius_to_Kelvin())\n",
        "        print(\"Fahrenheit to Kelvin:\", self.__Fahrenheit_to_Kelvin())\n",
        "      \n",
        "temp = float(input(\"Enter temperature: \"))\n",
        "TC = TempConversion(temp)\n",
        "TC.convert()\n",
        "\n"
      ],
      "metadata": {
        "id": "e5zPzO9KFROp",
        "colab": {
          "base_uri": "https://localhost:8080/"
        },
        "outputId": "b57b9fc7-f29c-4cfc-9c75-85562f8583e2"
      },
      "execution_count": 32,
      "outputs": [
        {
          "output_type": "stream",
          "name": "stdout",
          "text": [
            "Enter temperature: 13\n",
            "Fahrenheit to Celsius: -10.555555555555555\n",
            "Kelvin to Celsius: -260.15\n",
            "Celsius to Fahrenheit: 55.4\n",
            "Kelvin to Fahrenheit: -436.27\n",
            "Celsius to Kelvin: 286.15\n",
            "Fahrenheit to Kelvin: 262.59444444444443\n"
          ]
        }
      ]
    }
  ]
}