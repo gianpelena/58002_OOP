{
  "nbformat": 4,
  "nbformat_minor": 0,
  "metadata": {
    "colab": {
      "provenance": [],
      "authorship_tag": "ABX9TyM85IJEYcBEPgG3V8b1hUZt",
      "include_colab_link": true
    },
    "kernelspec": {
      "name": "python3",
      "display_name": "Python 3"
    },
    "language_info": {
      "name": "python"
    }
  },
  "cells": [
    {
      "cell_type": "markdown",
      "metadata": {
        "id": "view-in-github",
        "colab_type": "text"
      },
      "source": [
        "<a href=\"https://colab.research.google.com/github/gianpelena/58002_OOP/blob/main/Conditional_Statement.ipynb\" target=\"_parent\"><img src=\"https://colab.research.google.com/assets/colab-badge.svg\" alt=\"Open In Colab\"/></a>"
      ]
    },
    {
      "cell_type": "code",
      "source": [
        "#If Statement\n",
        "a = 100\n",
        "b = 50\n",
        "if a>b:\n",
        "  print(\"a is greater than b\")"
      ],
      "metadata": {
        "colab": {
          "base_uri": "https://localhost:8080/"
        },
        "id": "qy44aGUtk9KJ",
        "outputId": "fae0a388-6881-4059-8f7f-ea0c00e8f97f"
      },
      "execution_count": 40,
      "outputs": [
        {
          "output_type": "stream",
          "name": "stdout",
          "text": [
            "a is greater than b\n"
          ]
        }
      ]
    },
    {
      "cell_type": "code",
      "source": [
        "#Elif Statement\n",
        "a = 100\n",
        "b = 500\n",
        "if a>b:\n",
        "  print(\"a is greater than b\")\n",
        "else:\n",
        "  print(\" a is less than b\")"
      ],
      "metadata": {
        "colab": {
          "base_uri": "https://localhost:8080/"
        },
        "id": "p2rl5JsmlSGy",
        "outputId": "6a23e165-b726-4e01-cc48-214024fa6fc9"
      },
      "execution_count": 39,
      "outputs": [
        {
          "output_type": "stream",
          "name": "stdout",
          "text": [
            " a is less than b\n"
          ]
        }
      ]
    },
    {
      "cell_type": "code",
      "source": [
        "#Else Statement\n",
        "a = 100\n",
        "b = 500\n",
        "if a>b:\n",
        "  print(\"a is greater than b\")\n",
        "elif a<b:\n",
        "  print(\" a is less than b\")\n",
        "else:\n",
        "  print(\" a is equal to b\")"
      ],
      "metadata": {
        "colab": {
          "base_uri": "https://localhost:8080/"
        },
        "id": "ql_Y0PM4lxcL",
        "outputId": "d9e32f91-ee09-4cb7-99ce-67bad5887279"
      },
      "execution_count": 38,
      "outputs": [
        {
          "output_type": "stream",
          "name": "stdout",
          "text": [
            " a is less than b\n"
          ]
        }
      ]
    },
    {
      "cell_type": "code",
      "source": [
        "#Shorthand if \n",
        "if a==b: print (\" a is equal to b\")\n",
        "  "
      ],
      "metadata": {
        "id": "4PzhBTCamkpD"
      },
      "execution_count": 37,
      "outputs": []
    },
    {
      "cell_type": "code",
      "source": [
        "#shorthand if..else\n",
        "print(\" a is greater than b\")if a>b else print(\" a is less than b\")"
      ],
      "metadata": {
        "colab": {
          "base_uri": "https://localhost:8080/"
        },
        "id": "WTBsha74m0LL",
        "outputId": "f5821652-0816-48b1-d985-a5a091ab0f62"
      },
      "execution_count": 36,
      "outputs": [
        {
          "output_type": "stream",
          "name": "stdout",
          "text": [
            " a is greater than b\n"
          ]
        }
      ]
    },
    {
      "cell_type": "code",
      "source": [
        "#and both\n",
        "a = 200\n",
        "b = 33\n",
        "c = 500\n",
        "if a>b or a>c:\n",
        "    print(\"both conditions are true \")"
      ],
      "metadata": {
        "colab": {
          "base_uri": "https://localhost:8080/"
        },
        "id": "S8YsL6AdnCWz",
        "outputId": "551242f6-abe2-4cdb-9dc9-ce6ee7893736"
      },
      "execution_count": 35,
      "outputs": [
        {
          "output_type": "stream",
          "name": "stdout",
          "text": [
            "both conditions are true \n"
          ]
        }
      ]
    },
    {
      "cell_type": "code",
      "source": [
        "#or at \n",
        "a = 20\n",
        "b = 33\n",
        "c = 50\n",
        "if a>b or a<c:\n",
        "  print(\"at least one of the conditions is true\")\n",
        "  \n"
      ],
      "metadata": {
        "colab": {
          "base_uri": "https://localhost:8080/"
        },
        "id": "PLCnhXVfnhSb",
        "outputId": "9ff09fe0-3c5a-4124-e967-d87de4023c54"
      },
      "execution_count": 34,
      "outputs": [
        {
          "output_type": "stream",
          "name": "stdout",
          "text": [
            "at least one of the conditions is true\n"
          ]
        }
      ]
    },
    {
      "cell_type": "code",
      "source": [
        "#and condition\n",
        "s = 75\n",
        "t = 70\n",
        "\n",
        "if s>t and t<s:\n",
        "  print(\" s > t and t < s\")"
      ],
      "metadata": {
        "colab": {
          "base_uri": "https://localhost:8080/"
        },
        "id": "iWfUJmisoXfq",
        "outputId": "67303844-61d7-4358-e00c-08b145ba768b"
      },
      "execution_count": 33,
      "outputs": [
        {
          "output_type": "stream",
          "name": "stdout",
          "text": [
            " s > t and t < s\n"
          ]
        }
      ]
    },
    {
      "cell_type": "code",
      "source": [
        "#nested if\n",
        "x = 41\n",
        "\n",
        "if x>10:\n",
        "  print(\"above ten\")\n",
        "  if x>20:\n",
        "    print (\"and also above 20!\")\n",
        "  else:\n",
        "   print(\"but not above ten\")"
      ],
      "metadata": {
        "colab": {
          "base_uri": "https://localhost:8080/"
        },
        "id": "ATfNndLfoms9",
        "outputId": "4e57d485-9e78-4e9c-de3a-6217af8d24b9"
      },
      "execution_count": 32,
      "outputs": [
        {
          "output_type": "stream",
          "name": "stdout",
          "text": [
            "above ten\n",
            "and also above 20!\n"
          ]
        }
      ]
    },
    {
      "cell_type": "code",
      "source": [
        "x = 51\n",
        "if x>10:\n",
        "  print(\"above 10\")\n",
        "  if x>20:\n",
        "    print(\"above 20\")\n",
        "  else:\n",
        "      print(\"below 20\")\n",
        "\n",
        "else:\n",
        "    print(\"below 10\")"
      ],
      "metadata": {
        "colab": {
          "base_uri": "https://localhost:8080/"
        },
        "id": "exhlFYwDpQ1e",
        "outputId": "cad3c6f9-d308-4419-bf2f-18d929aca7c9"
      },
      "execution_count": 29,
      "outputs": [
        {
          "output_type": "stream",
          "name": "stdout",
          "text": [
            "above 10\n",
            "above 20\n"
          ]
        }
      ]
    },
    {
      "cell_type": "code",
      "source": [
        "x=int(int(input()))\n",
        "if x>20:\n",
        "  print(\" above 20\")\n",
        "  if x>30:\n",
        "     print(\"above 30\")\n",
        "     if x>40:\n",
        "      print(\" above 40\")\n",
        "      if x>50:\n",
        "        print(\"above 50\")\n",
        "      else:\n",
        "       print(\"below 50\")\n",
        "     else:\n",
        "      print(\"below 40\")\n",
        "  else:\n",
        "    print(\"below 30\")\n",
        "else:\n",
        " print(\"below 20\")"
      ],
      "metadata": {
        "colab": {
          "base_uri": "https://localhost:8080/"
        },
        "id": "ECzxz_A6rdmH",
        "outputId": "762f43fe-c1e9-4ea6-fcd6-a507a384ee80"
      },
      "execution_count": 57,
      "outputs": [
        {
          "output_type": "stream",
          "name": "stdout",
          "text": [
            "100\n",
            " above 20\n",
            "above 30\n",
            " above 40\n",
            "above 50\n"
          ]
        }
      ]
    },
    {
      "cell_type": "code",
      "source": [
        "#EXAMPLE 1 \n",
        "x = 17\n",
        "if x<=18:\n",
        "  print(\"qualified to vote\")\n",
        "else:\n",
        "  (\"print not qualified to vote\")"
      ],
      "metadata": {
        "colab": {
          "base_uri": "https://localhost:8080/"
        },
        "id": "ZZpnpByxqUKt",
        "outputId": "da4d6eea-b9dc-4938-ba9c-983e3b475f94"
      },
      "execution_count": 42,
      "outputs": [
        {
          "output_type": "stream",
          "name": "stdout",
          "text": [
            "qualified to vote\n"
          ]
        }
      ]
    },
    {
      "cell_type": "code",
      "source": [
        "#EXAMPLE 2\n",
        "number = float(input(\"Enter a number: \"))\n",
        "\n",
        "if number == 0:\n",
        "  print(\"Zero\")\n",
        "\n",
        "elif number >=1:\n",
        "  print(\"Positive\")\n",
        "\n",
        "else:\n",
        "  print(\"Negative\")"
      ],
      "metadata": {
        "colab": {
          "base_uri": "https://localhost:8080/"
        },
        "id": "culuPBEMuaTV",
        "outputId": "9fe84022-463d-4d0f-a802-c25ca787b091"
      },
      "execution_count": 60,
      "outputs": [
        {
          "output_type": "stream",
          "name": "stdout",
          "text": [
            "Enter a number: 30\n",
            "Positive\n"
          ]
        }
      ]
    },
    {
      "cell_type": "code",
      "source": [
        "#EXAMPLE 3 \n",
        "grade = int(input(\"Enter your grade: \"))\n",
        "if grade < 0:\n",
        "  print(\"Invalid grade. Grades must be non-negative.\")\n",
        "  exit()\n",
        "if grade >= 70:\n",
        "  print(\"Passed\")\n",
        "elif grade <= 69 and grade >= 65:\n",
        "  print(\"Remedial\")\n",
        "elif grade <=65 and grade >=0:\n",
        "  print(\"Failed\")"
      ],
      "metadata": {
        "colab": {
          "base_uri": "https://localhost:8080/"
        },
        "id": "BdY9OKX7vGXe",
        "outputId": "eb9e4efa-0cff-4770-fb08-43e61f9ede64"
      },
      "execution_count": 59,
      "outputs": [
        {
          "output_type": "stream",
          "name": "stdout",
          "text": [
            "Enter your grade: 95\n",
            "Passed\n"
          ]
        }
      ]
    }
  ]
}