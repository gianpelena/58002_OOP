{
  "nbformat": 4,
  "nbformat_minor": 0,
  "metadata": {
    "colab": {
      "provenance": [],
      "authorship_tag": "ABX9TyNo766o7xv/vEL66qVDCYho",
      "include_colab_link": true
    },
    "kernelspec": {
      "name": "python3",
      "display_name": "Python 3"
    },
    "language_info": {
      "name": "python"
    }
  },
  "cells": [
    {
      "cell_type": "markdown",
      "metadata": {
        "id": "view-in-github",
        "colab_type": "text"
      },
      "source": [
        "<a href=\"https://colab.research.google.com/github/gianpelena/58002_OOP/blob/main/HANDS_ON_1.ipynb\" target=\"_parent\"><img src=\"https://colab.research.google.com/assets/colab-badge.svg\" alt=\"Open In Colab\"/></a>"
      ]
    },
    {
      "cell_type": "markdown",
      "source": [
        "#HANDS ON 1 \n",
        "\n",
        "\n",
        "1. CREATE A PYTHON PROGRAM THAT DISPLAYS THE NAME OF THREE STUDENT (STUDENTS 1, STUDENTS 2, STUDENTS 3) AND THE TEAM GRADES\n",
        "\n",
        "2. CREATE A CLASS NAME PERSON AND ATTRIBUTE - STD1, STD2, STD3, PRE, MID, FIN\n",
        "\n",
        "3. COMPILE THE AVERAGE OF EACH TERM GRADE USING GRADE() METHOD\n",
        "\n",
        "4. INFORMATION ABOUT STUDENT'S GRADES MUST BE HIDDEN FROM OTHERS.\n"
      ],
      "metadata": {
        "id": "v55DxkSE-Hlu"
      }
    },
    {
      "cell_type": "code",
      "source": [
        "class Person:\n",
        "    def __init__(self, std1, std2, std3):\n",
        "        self.__std1 = std1\n",
        "        self.__std2 = std2\n",
        "        self.__std3 = std3\n",
        "        self.__pre = None\n",
        "        self.__mid = None\n",
        "        self.__fin = None\n",
        "    \n",
        "    def grade(self, pre, mid, fin):\n",
        "        self.__pre = pre\n",
        "        self.__mid = mid\n",
        "        self.__fin = fin\n",
        "    \n",
        "    def average_grade(self):\n",
        "        return (self.__pre + self.__mid + self.__fin) / 3\n",
        "\n",
        "p = Person(\"Student 1\", \"Student 2\", \"Student 3\")\n",
        "p.grade(75, 85, 90)\n",
        "\n",
        "print(p._Person__std1, \"Grade:\", p.average_grade())\n",
        "print(p._Person__std2, \"Grade:\", p.average_grade())\n",
        "print(p._Person__std3, \"Grade:\", p.average_grade())\n"
      ],
      "metadata": {
        "colab": {
          "base_uri": "https://localhost:8080/"
        },
        "id": "9BC2CR4xEqRL",
        "outputId": "1e3a7f1c-41bf-43c6-9ee1-05c905b558f2"
      },
      "execution_count": 10,
      "outputs": [
        {
          "output_type": "stream",
          "name": "stdout",
          "text": [
            "Student 1 Grade: 83.33333333333333\n",
            "Student 2 Grade: 83.33333333333333\n",
            "Student 3 Grade: 83.33333333333333\n"
          ]
        }
      ]
    }
  ]
}