{
  "nbformat": 4,
  "nbformat_minor": 0,
  "metadata": {
    "colab": {
      "provenance": [],
      "authorship_tag": "ABX9TyNgbkqBRSh0Wvw6jnVWR4kt",
      "include_colab_link": true
    },
    "kernelspec": {
      "name": "python3",
      "display_name": "Python 3"
    },
    "language_info": {
      "name": "python"
    }
  },
  "cells": [
    {
      "cell_type": "markdown",
      "metadata": {
        "id": "view-in-github",
        "colab_type": "text"
      },
      "source": [
        "<a href=\"https://colab.research.google.com/github/gianpelena/58002_OOP/blob/main/OOP_CONCEPTS_2.ipynb\" target=\"_parent\"><img src=\"https://colab.research.google.com/assets/colab-badge.svg\" alt=\"Open In Colab\"/></a>"
      ]
    },
    {
      "cell_type": "code",
      "execution_count": 5,
      "metadata": {
        "colab": {
          "base_uri": "https://localhost:8080/"
        },
        "id": "ebWb8BxD1vFv",
        "outputId": "0b585cca-f702-47d5-e1d7-e004c1dd4de7"
      },
      "outputs": [
        {
          "output_type": "execute_result",
          "data": {
            "text/plain": [
              "7"
            ]
          },
          "metadata": {},
          "execution_count": 5
        }
      ],
      "source": [
        "#Example\n",
        "class foo:\n",
        "  def __init__(self, a ,b):\n",
        "    self.a = a\n",
        "    self.b = b\n",
        "  def add(self):\n",
        "    return self.a + self.b\n",
        "foo_object = foo(3,4)\n",
        "foo_object.add()\n"
      ]
    },
    {
      "cell_type": "code",
      "source": [
        "#Class with multiple object\n",
        "\n",
        "class birds:\n",
        "  def __init__(self,name_birds):\n",
        "    self.name_birds = name_birds\n",
        "  def flying_birds(self):\n",
        "    print(f\"The {self.name_birds} is the flying bird above the sky\")\n",
        "  def non_flying_birds(self):\n",
        "    print(f\"The {self.name_birds} is the non flying birds\")\n",
        "\n",
        "eagle = birds(\"Eagle\")\n",
        "Chicken = birds(\"Chicken\")\n",
        "eagle.flying_birds()\n",
        "Chicken.non_flying_birds()"
      ],
      "metadata": {
        "colab": {
          "base_uri": "https://localhost:8080/"
        },
        "id": "6pSx2a3u9TdM",
        "outputId": "5cb5ea98-0811-4aca-f907-d9f40a600c00"
      },
      "execution_count": 17,
      "outputs": [
        {
          "output_type": "stream",
          "name": "stdout",
          "text": [
            "The Eagle is the flying bird above the sky\n",
            "The Chicken is the non flying birds\n"
          ]
        }
      ]
    },
    {
      "cell_type": "code",
      "source": [
        "#Encapsulation\n",
        "class foo:\n",
        "  def __init__(self, a ,b):\n",
        "    self.a = a\n",
        "    self.b = b\n",
        "  def add(self):\n",
        "    return self.a + self.b\n",
        "foo_object = foo(3,4)\n",
        "foo_object.add()"
      ],
      "metadata": {
        "colab": {
          "base_uri": "https://localhost:8080/"
        },
        "id": "IEv9K8Zb_ZYK",
        "outputId": "80ebd9af-d4f4-4764-9ee1-9fd5e185ba48"
      },
      "execution_count": 13,
      "outputs": [
        {
          "output_type": "execute_result",
          "data": {
            "text/plain": [
              "7"
            ]
          },
          "metadata": {},
          "execution_count": 13
        }
      ]
    },
    {
      "cell_type": "code",
      "source": [
        "#Inheritance\n",
        "class Person:\n",
        "  def __init__(self,name,birthdate):\n",
        "    self.name = name\n",
        "    self.birthdate = birthdate\n",
        "  def display(self):\n",
        "    print(\"My name is\", self.name)\n",
        "    print(\"My birthdate is\", self.birthdate)\n",
        "class Student(Person):\n",
        "  pass\n",
        "person = Person(\"Gian\", \"September 13, 2003\")\n",
        "person.display()\n",
        "\n",
        "student = Person(\"franco\", \"September 13, 2003\")\n",
        "student.display()\n",
        "  "
      ],
      "metadata": {
        "id": "r6PqhhYuAtWC"
      },
      "execution_count": null,
      "outputs": []
    },
    {
      "cell_type": "code",
      "source": [
        "\n",
        "class Shapes:\n",
        "  def __init__(self,name,sides):\n",
        "    self.name = name\n",
        "    self.sides = sides\n",
        "  def display(self):\n",
        "    print(\"The name of the shape is\", self.name)\n",
        "    print(\"The number of sides is\", self.sides)\n",
        "  \n",
        "shapes = Shapes(\"Rectangle\", \"4\")\n",
        "shapes.display()\n",
        "shapes = Shapes(\"Square\", \"4\")\n",
        "shapes.display()\n",
        "shapes = Shapes(\"Hexagon\", \"6\")\n",
        "shapes.display()\n",
        "shapes = Shapes(\"Pentagon\", \"5\")\n",
        "shapes.display()\n",
        "shapes = Shapes(\"Octagon\", \"8\")\n",
        "shapes.display()\n",
        "\n"
      ],
      "metadata": {
        "colab": {
          "base_uri": "https://localhost:8080/"
        },
        "id": "Q80S3C-LGICB",
        "outputId": "35abeefa-bef6-4eaf-a5ea-aa6d655deb30"
      },
      "execution_count": 48,
      "outputs": [
        {
          "output_type": "stream",
          "name": "stdout",
          "text": [
            "The name of the shape is Rectangle\n",
            "The number of sides is 4\n",
            "The name of the shape is Square\n",
            "The number of sides is 4\n",
            "The name of the shape is Hexagon\n",
            "The number of sides is 6\n",
            "The name of the shape is Pentagon\n",
            "The number of sides is 5\n",
            "The name of the shape is Octagon\n",
            "The number of sides is 8\n"
          ]
        }
      ]
    }
  ]
}