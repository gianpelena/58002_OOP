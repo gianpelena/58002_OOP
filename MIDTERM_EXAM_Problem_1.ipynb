{
  "nbformat": 4,
  "nbformat_minor": 0,
  "metadata": {
    "colab": {
      "provenance": [],
      "authorship_tag": "ABX9TyMmKQhYJFt0I4HiY5nwPVSA",
      "include_colab_link": true
    },
    "kernelspec": {
      "name": "python3",
      "display_name": "Python 3"
    },
    "language_info": {
      "name": "python"
    }
  },
  "cells": [
    {
      "cell_type": "markdown",
      "metadata": {
        "id": "view-in-github",
        "colab_type": "text"
      },
      "source": [
        "<a href=\"https://colab.research.google.com/github/gianpelena/58002_OOP/blob/main/MIDTERM_EXAM_Problem_1.ipynb\" target=\"_parent\"><img src=\"https://colab.research.google.com/assets/colab-badge.svg\" alt=\"Open In Colab\"/></a>"
      ]
    },
    {
      "cell_type": "code",
      "source": [
        "class Circle:\n",
        "    pi = 3.14159\n",
        "\n",
        "    def __init__(self,rad):\n",
        "        self.rad = rad\n",
        "\n",
        "    def display(self):\n",
        "        print(\"The Perimeter: \", self.perimeter())\n",
        "        print(\"The Area: \",self.area())\n",
        "\n",
        "    def area(self):\n",
        "        return self.pi * self.rad ** 2\n",
        "\n",
        "    def perimeter(self):\n",
        "        return 2 * self.pi * self.rad\n",
        "\n",
        "radius = float(input(\"The Radius of the circle \"))\n",
        "circle = Circle(radius)\n",
        "circle.display()"
      ],
      "metadata": {
        "colab": {
          "base_uri": "https://localhost:8080/"
        },
        "id": "oBgdEwJdW5ob",
        "outputId": "1c745d2d-915f-49be-fa72-5089e359af1c"
      },
      "execution_count": 14,
      "outputs": [
        {
          "output_type": "stream",
          "name": "stdout",
          "text": [
            "The Radius of the circle 13\n",
            "The Perimeter:  81.68133999999999\n",
            "The Area:  530.92871\n"
          ]
        }
      ]
    }
  ]
}