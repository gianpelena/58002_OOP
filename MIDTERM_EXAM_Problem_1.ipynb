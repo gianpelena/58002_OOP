{
  "nbformat": 4,
  "nbformat_minor": 0,
  "metadata": {
    "colab": {
      "provenance": [],
      "authorship_tag": "ABX9TyP/886oMz+quuU4fgDLT5og",
      "include_colab_link": true
    },
    "kernelspec": {
      "name": "python3",
      "display_name": "Python 3"
    },
    "language_info": {
      "name": "python"
    }
  },
  "cells": [
    {
      "cell_type": "markdown",
      "metadata": {
        "id": "view-in-github",
        "colab_type": "text"
      },
      "source": [
        "<a href=\"https://colab.research.google.com/github/gianpelena/58002_OOP/blob/main/MIDTERM_EXAM_Problem_1.ipynb\" target=\"_parent\"><img src=\"https://colab.research.google.com/assets/colab-badge.svg\" alt=\"Open In Colab\"/></a>"
      ]
    },
    {
      "cell_type": "code",
      "source": [
        "class Circle:\n",
        "    pi = 3.14159\n",
        "\n",
        "    def __init__(self,radius):\n",
        "        self.radius = radius\n",
        "\n",
        "    def display(self):\n",
        "        print(\"The perimeter: \", self.perimeter())\n",
        "        print(\"The Area: \",self.area())\n",
        "\n",
        "    def area(self):\n",
        "        return self.pi * self.radius ** 2\n",
        "\n",
        "    def perimeter(self):\n",
        "        return 2 * self.pi * self.radius\n",
        "\n",
        "radius = float(input(\"The radius of the circle \"))\n",
        "circle = Circle(radius)\n",
        "circle.display()"
      ],
      "metadata": {
        "colab": {
          "base_uri": "https://localhost:8080/"
        },
        "id": "oBgdEwJdW5ob",
        "outputId": "e95de7f7-9da9-4cea-86b9-ff1ee0f1faf1"
      },
      "execution_count": 12,
      "outputs": [
        {
          "output_type": "stream",
          "name": "stdout",
          "text": [
            "The radius of the circle 13\n",
            "The perimeter:  81.68133999999999\n",
            "The Area:  530.92871\n"
          ]
        }
      ]
    }
  ]
}