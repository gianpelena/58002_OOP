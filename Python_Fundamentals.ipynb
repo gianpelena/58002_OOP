{
  "nbformat": 4,
  "nbformat_minor": 0,
  "metadata": {
    "colab": {
      "provenance": [],
      "authorship_tag": "ABX9TyPoxbSkvkftPqiFuAvXOtVw",
      "include_colab_link": true
    },
    "kernelspec": {
      "name": "python3",
      "display_name": "Python 3"
    },
    "language_info": {
      "name": "python"
    }
  },
  "cells": [
    {
      "cell_type": "markdown",
      "metadata": {
        "id": "view-in-github",
        "colab_type": "text"
      },
      "source": [
        "<a href=\"https://colab.research.google.com/github/gianpelena/58002_OOP/blob/main/Python_Fundamentals.ipynb\" target=\"_parent\"><img src=\"https://colab.research.google.com/assets/colab-badge.svg\" alt=\"Open In Colab\"/></a>"
      ]
    },
    {
      "cell_type": "code",
      "execution_count": null,
      "metadata": {
        "id": "sdwpfZXzwrbc"
      },
      "outputs": [],
      "source": [
        "\n",
        "\n"
      ]
    },
    {
      "cell_type": "markdown",
      "source": [
        "\n"
      ],
      "metadata": {
        "id": "aCf2qYruw1Ud"
      }
    },
    {
      "cell_type": "code",
      "source": [
        "if 5>2:\n",
        "  print(\"five is greater than two\")"
      ],
      "metadata": {
        "colab": {
          "base_uri": "https://localhost:8080/"
        },
        "id": "ZtKlJMakw4xN",
        "outputId": "56f750cc-fede-44b8-8ce8-3f43e462688d"
      },
      "execution_count": null,
      "outputs": [
        {
          "output_type": "stream",
          "name": "stdout",
          "text": [
            "five is greater than two\n"
          ]
        }
      ]
    },
    {
      "cell_type": "code",
      "source": [
        "  #This is a comment \n",
        "  print(\"Hello World\")"
      ],
      "metadata": {
        "colab": {
          "base_uri": "https://localhost:8080/"
        },
        "id": "3vsaZb-JyUmC",
        "outputId": "a9edd42c-ab96-4294-f558-89c1b0d1bb31"
      },
      "execution_count": null,
      "outputs": [
        {
          "output_type": "stream",
          "name": "stdout",
          "text": [
            "Hello World\n"
          ]
        }
      ]
    },
    {
      "cell_type": "code",
      "source": [
        "#Single variable with single value\n",
        "x = 1\n",
        "y = 2\n",
        "z = 3\n",
        "print (x)\n",
        "print (y)\n",
        "print (z)\n",
        "\n",
        "#Multiple variable with a single value\n",
        "a = b = c = \"Gian Pogi\"\n",
        "print (a)\n",
        "print (b)\n",
        "print (c)\n",
        "\n",
        "#Multiple variable with multiple values\n",
        "e,f,g= 1,2,3\n",
        "print (e)\n",
        "print (f)\n",
        "print (g)"
      ],
      "metadata": {
        "colab": {
          "base_uri": "https://localhost:8080/"
        },
        "id": "cd9lJBTByfSy",
        "outputId": "2633a926-4787-4b33-f873-74890d56f312"
      },
      "execution_count": null,
      "outputs": [
        {
          "output_type": "stream",
          "name": "stdout",
          "text": [
            "1\n",
            "2\n",
            "3\n",
            "Gian Pogi\n",
            "Gian Pogi\n",
            "Gian Pogi\n",
            "1\n",
            "2\n",
            "3\n"
          ]
        }
      ]
    },
    {
      "cell_type": "code",
      "source": [
        "#Single or Double\n",
        "y = \"Sally\"\n",
        "u = \"Sally\"\n",
        "print (y)\n",
        "print (u)"
      ],
      "metadata": {
        "colab": {
          "base_uri": "https://localhost:8080/"
        },
        "id": "qGG12Bev1QzK",
        "outputId": "6ddfc0c7-f79a-4f0a-f5d3-cc440e5565a4"
      },
      "execution_count": null,
      "outputs": [
        {
          "output_type": "stream",
          "name": "stdout",
          "text": [
            "Sally\n",
            "Sally\n"
          ]
        }
      ]
    },
    {
      "cell_type": "code",
      "source": [
        "#Casting\n",
        "p = float(5)\n",
        "p"
      ],
      "metadata": {
        "colab": {
          "base_uri": "https://localhost:8080/"
        },
        "id": "nj2aMp9p1Ufa",
        "outputId": "7d4201e3-5aec-49b8-fefa-4be4e5ca857b"
      },
      "execution_count": null,
      "outputs": [
        {
          "output_type": "execute_result",
          "data": {
            "text/plain": [
              "5.0"
            ]
          },
          "metadata": {},
          "execution_count": 26
        }
      ]
    },
    {
      "cell_type": "markdown",
      "source": [
        "Type() FUnction\n"
      ],
      "metadata": {
        "id": "yWsfiQW_2DWJ"
      }
    },
    {
      "cell_type": "code",
      "source": [
        "f = \"Ana\"\n",
        "g = 4.56\n",
        "print(type(f))\n",
        "print(type(g))"
      ],
      "metadata": {
        "colab": {
          "base_uri": "https://localhost:8080/"
        },
        "id": "FxCSknJ42Hsi",
        "outputId": "69e7359d-148b-426d-e666-fdebdd462174"
      },
      "execution_count": 33,
      "outputs": [
        {
          "output_type": "stream",
          "name": "stdout",
          "text": [
            "<class 'str'>\n",
            "<class 'float'>\n"
          ]
        }
      ]
    },
    {
      "cell_type": "markdown",
      "source": [
        "Concantenation using + symbol\n",
        "\n"
      ],
      "metadata": {
        "id": "TqhIIhHn38Zl"
      }
    },
    {
      "cell_type": "code",
      "source": [
        "k = \"enjoying\"\n",
        "j = \"Python Programming is \"\n",
        "print(j+k)"
      ],
      "metadata": {
        "colab": {
          "base_uri": "https://localhost:8080/"
        },
        "id": "_YOQLVIb4Gru",
        "outputId": "aa8c4094-c1ef-460c-bfa8-34304ccaa66e"
      },
      "execution_count": 36,
      "outputs": [
        {
          "output_type": "stream",
          "name": "stdout",
          "text": [
            "Phython Programming is enjoying\n"
          ]
        }
      ]
    }
  ]
}