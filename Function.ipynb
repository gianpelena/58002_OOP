{
  "nbformat": 4,
  "nbformat_minor": 0,
  "metadata": {
    "colab": {
      "provenance": [],
      "authorship_tag": "ABX9TyOyW0EATYitRRi4i4+YLXyi",
      "include_colab_link": true
    },
    "kernelspec": {
      "name": "python3",
      "display_name": "Python 3"
    },
    "language_info": {
      "name": "python"
    }
  },
  "cells": [
    {
      "cell_type": "markdown",
      "metadata": {
        "id": "view-in-github",
        "colab_type": "text"
      },
      "source": [
        "<a href=\"https://colab.research.google.com/github/gianpelena/58002_OOP/blob/main/Function.ipynb\" target=\"_parent\"><img src=\"https://colab.research.google.com/assets/colab-badge.svg\" alt=\"Open In Colab\"/></a>"
      ]
    },
    {
      "cell_type": "code",
      "execution_count": 1,
      "metadata": {
        "colab": {
          "base_uri": "https://localhost:8080/"
        },
        "id": "3H9yYJn7y8ie",
        "outputId": "88ce948d-6ce8-4ad0-943f-d105fb840737"
      },
      "outputs": [
        {
          "output_type": "execute_result",
          "data": {
            "text/plain": [
              "2"
            ]
          },
          "metadata": {},
          "execution_count": 1
        }
      ],
      "source": [
        "def remainder (n,m):\n",
        "    while True:\n",
        "        if n - m  < 0:\n",
        "            return n \n",
        "        else:\n",
        "            n = n - m \n",
        "\n",
        "remainder (10, 4)  "
      ]
    },
    {
      "cell_type": "code",
      "source": [
        "class Shape:\n",
        "  def __init__(self, length, width):\n",
        "    self.length = length\n",
        "    self.width = width\n",
        "    \n",
        "  def area_rec(self):\n",
        "    return self.length * self.width\n",
        "   #def area_sqr(self,side):\n",
        "     # return self.side *self.side\n",
        "\n",
        "rectangle = Shape(10,5)\n",
        "rectangle.area_rec()"
      ],
      "metadata": {
        "colab": {
          "base_uri": "https://localhost:8080/"
        },
        "id": "0_z36Z9V1Ik8",
        "outputId": "46643a15-b50c-46eb-d9ae-99b4dc6c4d73"
      },
      "execution_count": 18,
      "outputs": [
        {
          "output_type": "execute_result",
          "data": {
            "text/plain": [
              "50"
            ]
          },
          "metadata": {},
          "execution_count": 18
        }
      ]
    },
    {
      "cell_type": "markdown",
      "source": [
        "Create a function that will display your full name and name your class as Person\n"
      ],
      "metadata": {
        "id": "9DZhh_Q13c_K"
      }
    },
    {
      "cell_type": "code",
      "source": [
        "def name():\n",
        "  return \"Gian Franco Pelena\"\n",
        "print(\"My name is \" + name())\n",
        "\n",
        "def classperson():\n",
        "  return \"BSCPE\"\n",
        "print(\"I'm a \" + classperson())"
      ],
      "metadata": {
        "colab": {
          "base_uri": "https://localhost:8080/"
        },
        "id": "aye9nHjC9g-v",
        "outputId": "ee01de1a-7ed1-4bcb-b9ea-3ee80da5dc83"
      },
      "execution_count": 43,
      "outputs": [
        {
          "output_type": "stream",
          "name": "stdout",
          "text": [
            "My name is Gian Franco Pelena\n",
            "I'm a BSCPE\n"
          ]
        }
      ]
    }
  ]
}